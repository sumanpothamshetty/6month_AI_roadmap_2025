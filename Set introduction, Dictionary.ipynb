{
 "cells": [
  {
   "cell_type": "code",
   "execution_count": 1,
   "id": "92a0dbf6-73c0-4b81-89a9-1cbfd4c29db6",
   "metadata": {},
   "outputs": [
    {
     "data": {
      "text/plain": [
       "{}"
      ]
     },
     "execution_count": 1,
     "metadata": {},
     "output_type": "execute_result"
    }
   ],
   "source": [
    "s={}\n",
    "s"
   ]
  },
  {
   "cell_type": "code",
   "execution_count": 3,
   "id": "df1c4ec1-1065-4061-9737-6d2c825d084f",
   "metadata": {},
   "outputs": [
    {
     "data": {
      "text/plain": [
       "dict"
      ]
     },
     "execution_count": 3,
     "metadata": {},
     "output_type": "execute_result"
    }
   ],
   "source": [
    "type(s)"
   ]
  },
  {
   "cell_type": "code",
   "execution_count": 5,
   "id": "85dc5d0a-0029-451a-b324-48bee0a5be66",
   "metadata": {},
   "outputs": [
    {
     "data": {
      "text/plain": [
       "set()"
      ]
     },
     "execution_count": 5,
     "metadata": {},
     "output_type": "execute_result"
    }
   ],
   "source": [
    "s=set()\n",
    "s"
   ]
  },
  {
   "cell_type": "code",
   "execution_count": 7,
   "id": "d767fa7a-5805-4f83-af23-8d9d484ec4da",
   "metadata": {},
   "outputs": [
    {
     "data": {
      "text/plain": [
       "set"
      ]
     },
     "execution_count": 7,
     "metadata": {},
     "output_type": "execute_result"
    }
   ],
   "source": [
    "type(s)"
   ]
  },
  {
   "cell_type": "code",
   "execution_count": 9,
   "id": "d40ffe8d-2715-44c6-98e5-175aa23843f3",
   "metadata": {},
   "outputs": [
    {
     "data": {
      "text/plain": [
       "{1, 3, 13, 47, 80, 90, 100}"
      ]
     },
     "execution_count": 9,
     "metadata": {},
     "output_type": "execute_result"
    }
   ],
   "source": [
    "s1 = { 90,80,3,13,47,100,1}\n",
    "s1"
   ]
  },
  {
   "cell_type": "code",
   "execution_count": 2,
   "id": "e210117b-a4f4-42b7-9009-c3ca7cc20d50",
   "metadata": {},
   "outputs": [
    {
     "data": {
      "text/plain": [
       "{3, 23, 28, 67, 90}"
      ]
     },
     "execution_count": 2,
     "metadata": {},
     "output_type": "execute_result"
    }
   ],
   "source": [
    "s45={23,67,90,3,28}\n",
    "s45"
   ]
  },
  {
   "cell_type": "code",
   "execution_count": 15,
   "id": "2210b01d-b627-4e14-8f7f-d7fc16e7c752",
   "metadata": {},
   "outputs": [
    {
     "data": {
      "text/plain": [
       "{(1+2j), 2, 3, 4, True, 'nit'}"
      ]
     },
     "execution_count": 15,
     "metadata": {},
     "output_type": "execute_result"
    }
   ],
   "source": [
    "s2={4,'nit',2,3,True,1+2j}\n",
    "   \n",
    "s2"
   ]
  },
  {
   "cell_type": "code",
   "execution_count": 3,
   "id": "a8d19c57-b8f4-4b94-8900-92db75a5e7b1",
   "metadata": {},
   "outputs": [
    {
     "ename": "NameError",
     "evalue": "name 's1' is not defined",
     "output_type": "error",
     "traceback": [
      "\u001b[1;31m---------------------------------------------------------------------------\u001b[0m",
      "\u001b[1;31mNameError\u001b[0m                                 Traceback (most recent call last)",
      "Cell \u001b[1;32mIn[3], line 1\u001b[0m\n\u001b[1;32m----> 1\u001b[0m s1\u001b[38;5;241m.\u001b[39madd(\u001b[38;5;241m200\u001b[39m) \u001b[38;5;66;03m#append does not work in set, we use add\u001b[39;00m\n\u001b[0;32m      2\u001b[0m s1\n",
      "\u001b[1;31mNameError\u001b[0m: name 's1' is not defined"
     ]
    }
   ],
   "source": [
    "s1.add(200) #append does not work in set, we use add\n",
    "s1"
   ]
  },
  {
   "cell_type": "code",
   "execution_count": 19,
   "id": "852db159-2f31-4a88-b0be-a983ba3c2482",
   "metadata": {},
   "outputs": [
    {
     "data": {
      "text/plain": [
       "{1, 3, 13, 47, 80, 90, 100, 200}"
      ]
     },
     "execution_count": 19,
     "metadata": {},
     "output_type": "execute_result"
    }
   ],
   "source": [
    "s1.add(100) #duplicates are not allowed in sets\n",
    "s1"
   ]
  },
  {
   "cell_type": "code",
   "execution_count": 21,
   "id": "49abba0c-548b-422b-aae0-9e1198acfcc4",
   "metadata": {},
   "outputs": [
    {
     "data": {
      "text/plain": [
       "{1, 3, 13, 47, 80, 90, 100, 200}"
      ]
     },
     "execution_count": 21,
     "metadata": {},
     "output_type": "execute_result"
    }
   ],
   "source": [
    "s3=s1.copy()\n",
    "s3"
   ]
  },
  {
   "cell_type": "code",
   "execution_count": 27,
   "id": "9126d296-dc12-4d0c-9554-8abafde74d19",
   "metadata": {},
   "outputs": [
    {
     "data": {
      "text/plain": [
       "True"
      ]
     },
     "execution_count": 27,
     "metadata": {},
     "output_type": "execute_result"
    }
   ],
   "source": [
    "s1==s3"
   ]
  },
  {
   "cell_type": "code",
   "execution_count": 29,
   "id": "da7147b1-a0c8-4710-aab3-a10a17feda47",
   "metadata": {},
   "outputs": [
    {
     "data": {
      "text/plain": [
       "8"
      ]
     },
     "execution_count": 29,
     "metadata": {},
     "output_type": "execute_result"
    }
   ],
   "source": [
    "len(s3) "
   ]
  },
  {
   "cell_type": "code",
   "execution_count": 31,
   "id": "0b3e0e60-d430-4939-a980-7ae63ac6bb04",
   "metadata": {},
   "outputs": [
    {
     "data": {
      "text/plain": [
       "{1, 3, 13, 47, 80, 90, 100, 200}"
      ]
     },
     "execution_count": 31,
     "metadata": {},
     "output_type": "execute_result"
    }
   ],
   "source": [
    "s3"
   ]
  },
  {
   "cell_type": "code",
   "execution_count": 33,
   "id": "ec14668f-fbc9-4dae-abe5-6a0a8a7dca9a",
   "metadata": {},
   "outputs": [
    {
     "data": {
      "text/plain": [
       "set()"
      ]
     },
     "execution_count": 33,
     "metadata": {},
     "output_type": "execute_result"
    }
   ],
   "source": [
    "s3.clear()\n",
    "s3"
   ]
  },
  {
   "cell_type": "code",
   "execution_count": 35,
   "id": "8bc9688a-22eb-4b95-b261-ad28058152c2",
   "metadata": {},
   "outputs": [
    {
     "data": {
      "text/plain": [
       "0"
      ]
     },
     "execution_count": 35,
     "metadata": {},
     "output_type": "execute_result"
    }
   ],
   "source": [
    "len(s3)"
   ]
  },
  {
   "cell_type": "code",
   "execution_count": 37,
   "id": "d52427c5-4823-482d-9a8a-0301342f9f23",
   "metadata": {},
   "outputs": [
    {
     "data": {
      "text/plain": [
       "set()"
      ]
     },
     "execution_count": 37,
     "metadata": {},
     "output_type": "execute_result"
    }
   ],
   "source": [
    "s1"
   ]
  },
  {
   "cell_type": "code",
   "execution_count": 39,
   "id": "2a15227c-4eb7-4467-b497-7d97b3a79572",
   "metadata": {},
   "outputs": [
    {
     "data": {
      "text/plain": [
       "{1, 3, 13, 47, 80, 90, 100}"
      ]
     },
     "execution_count": 39,
     "metadata": {},
     "output_type": "execute_result"
    }
   ],
   "source": [
    "s1 = {90, 80 , 3, 13, 47, 100, 1}\n",
    "s1"
   ]
  },
  {
   "cell_type": "code",
   "execution_count": 41,
   "id": "c61d01b8-552e-4a8b-a8fc-912622e65c98",
   "metadata": {},
   "outputs": [
    {
     "data": {
      "text/plain": [
       "{1, 3, 13, 47, 80, 90, 100}"
      ]
     },
     "execution_count": 41,
     "metadata": {},
     "output_type": "execute_result"
    }
   ],
   "source": [
    "s1"
   ]
  },
  {
   "cell_type": "code",
   "execution_count": 43,
   "id": "fedffdc7-aeac-4555-bead-ae0f325d7bcd",
   "metadata": {},
   "outputs": [
    {
     "ename": "TypeError",
     "evalue": "'set' object is not subscriptable",
     "output_type": "error",
     "traceback": [
      "\u001b[1;31m---------------------------------------------------------------------------\u001b[0m",
      "\u001b[1;31mTypeError\u001b[0m                                 Traceback (most recent call last)",
      "Cell \u001b[1;32mIn[43], line 1\u001b[0m\n\u001b[1;32m----> 1\u001b[0m s1[\u001b[38;5;241m0\u001b[39m]\n",
      "\u001b[1;31mTypeError\u001b[0m: 'set' object is not subscriptable"
     ]
    }
   ],
   "source": [
    "s1[0] #indexing and slicing is not allowed in sets"
   ]
  },
  {
   "cell_type": "code",
   "execution_count": 45,
   "id": "2886e8aa-e85d-4f47-b6cd-1945c023fafe",
   "metadata": {},
   "outputs": [
    {
     "data": {
      "text/plain": [
       "{1, 3, 13, 47, 80, 90, 100}"
      ]
     },
     "execution_count": 45,
     "metadata": {},
     "output_type": "execute_result"
    }
   ],
   "source": [
    "s1"
   ]
  },
  {
   "cell_type": "code",
   "execution_count": 47,
   "id": "ca31cb60-a35f-4c6c-8ad6-4ec038c3c35e",
   "metadata": {},
   "outputs": [
    {
     "data": {
      "text/plain": [
       "80"
      ]
     },
     "execution_count": 47,
     "metadata": {},
     "output_type": "execute_result"
    }
   ],
   "source": [
    "s1.pop()  #pop() removes random elements unlike lists and tuple"
   ]
  },
  {
   "cell_type": "code",
   "execution_count": 49,
   "id": "6bf7ddcf-07ff-44b0-af89-658df664a355",
   "metadata": {},
   "outputs": [
    {
     "data": {
      "text/plain": [
       "{1, 3, 13, 47, 90, 100}"
      ]
     },
     "execution_count": 49,
     "metadata": {},
     "output_type": "execute_result"
    }
   ],
   "source": [
    "s1"
   ]
  },
  {
   "cell_type": "code",
   "execution_count": 51,
   "id": "ff5cb5b7-4d17-4adf-962c-da37a8b4d4fb",
   "metadata": {},
   "outputs": [
    {
     "ename": "KeyError",
     "evalue": "1000",
     "output_type": "error",
     "traceback": [
      "\u001b[1;31m---------------------------------------------------------------------------\u001b[0m",
      "\u001b[1;31mKeyError\u001b[0m                                  Traceback (most recent call last)",
      "Cell \u001b[1;32mIn[51], line 1\u001b[0m\n\u001b[1;32m----> 1\u001b[0m s1\u001b[38;5;241m.\u001b[39mremove(\u001b[38;5;241m1000\u001b[39m)\n",
      "\u001b[1;31mKeyError\u001b[0m: 1000"
     ]
    }
   ],
   "source": [
    "s1.remove(1000)"
   ]
  },
  {
   "cell_type": "code",
   "execution_count": 53,
   "id": "de024e14-924b-4fab-a292-493db01d37f5",
   "metadata": {},
   "outputs": [],
   "source": [
    "s1.discard(1000)"
   ]
  },
  {
   "cell_type": "code",
   "execution_count": 55,
   "id": "4f1412ab-48c8-4e4d-b6e1-3e6d75aba4d7",
   "metadata": {},
   "outputs": [
    {
     "data": {
      "text/plain": [
       "{1, 3, 13, 47, 90, 100}"
      ]
     },
     "execution_count": 55,
     "metadata": {},
     "output_type": "execute_result"
    }
   ],
   "source": [
    "s1"
   ]
  },
  {
   "cell_type": "code",
   "execution_count": 57,
   "id": "f2bb7375-d922-49a6-a618-476f4eb71bc7",
   "metadata": {},
   "outputs": [
    {
     "data": {
      "text/plain": [
       "{1, 3, 13, 90, 100}"
      ]
     },
     "execution_count": 57,
     "metadata": {},
     "output_type": "execute_result"
    }
   ],
   "source": [
    "s1.remove(47)\n",
    "s1"
   ]
  },
  {
   "cell_type": "code",
   "execution_count": 59,
   "id": "b589cade-5ac1-457f-9dd7-580d3468ee03",
   "metadata": {},
   "outputs": [
    {
     "data": {
      "text/plain": [
       "{1, 3, 13, 90, 100}"
      ]
     },
     "execution_count": 59,
     "metadata": {},
     "output_type": "execute_result"
    }
   ],
   "source": [
    "s1.discard(200)  #discard never throws error . It removes elemennt is it is present else it returns given set\n",
    "s1"
   ]
  },
  {
   "cell_type": "code",
   "execution_count": 61,
   "id": "ba81341d-ba3c-4b29-90f3-ba1d3bf725b5",
   "metadata": {},
   "outputs": [],
   "source": [
    "s1.discard(3)"
   ]
  },
  {
   "cell_type": "code",
   "execution_count": 63,
   "id": "841ce17e-472c-4d76-9f51-9fdebc1cf85e",
   "metadata": {},
   "outputs": [
    {
     "data": {
      "text/plain": [
       "{1, 13, 90, 100}"
      ]
     },
     "execution_count": 63,
     "metadata": {},
     "output_type": "execute_result"
    }
   ],
   "source": [
    "s1"
   ]
  },
  {
   "cell_type": "code",
   "execution_count": 65,
   "id": "c205e2a2-07df-4040-abd2-72a46277d90e",
   "metadata": {},
   "outputs": [
    {
     "data": {
      "text/plain": [
       "{1, 3, 13, 90, 100}"
      ]
     },
     "execution_count": 65,
     "metadata": {},
     "output_type": "execute_result"
    }
   ],
   "source": [
    "s1.add(3)\n",
    "s1"
   ]
  },
  {
   "cell_type": "code",
   "execution_count": null,
   "id": "25f1e79d-caf0-44f0-86d6-d1cda17fbd3f",
   "metadata": {},
   "outputs": [],
   "source": [
    "#set is mutable and immtuable"
   ]
  },
  {
   "cell_type": "code",
   "execution_count": 69,
   "id": "7ed85e14-3eca-4d94-9111-1675401be111",
   "metadata": {},
   "outputs": [
    {
     "name": "stdout",
     "output_type": "stream",
     "text": [
      "1\n",
      "3\n",
      "100\n",
      "90\n",
      "13\n"
     ]
    }
   ],
   "source": [
    "for i in s1:\n",
    "    print(i)"
   ]
  },
  {
   "cell_type": "code",
   "execution_count": 71,
   "id": "9e617eca-048c-4bbb-9ded-45a0891e6517",
   "metadata": {},
   "outputs": [
    {
     "name": "stdout",
     "output_type": "stream",
     "text": [
      "(0, 1)\n",
      "(1, 3)\n",
      "(2, 100)\n",
      "(3, 90)\n",
      "(4, 13)\n"
     ]
    }
   ],
   "source": [
    "for i in enumerate(s1):\n",
    "    print(i)"
   ]
  },
  {
   "cell_type": "code",
   "execution_count": 5,
   "id": "438d1bc8-8cb8-4997-b20f-b8e5b44658d9",
   "metadata": {},
   "outputs": [
    {
     "ename": "NameError",
     "evalue": "name 's1' is not defined",
     "output_type": "error",
     "traceback": [
      "\u001b[1;31m---------------------------------------------------------------------------\u001b[0m",
      "\u001b[1;31mNameError\u001b[0m                                 Traceback (most recent call last)",
      "Cell \u001b[1;32mIn[5], line 1\u001b[0m\n\u001b[1;32m----> 1\u001b[0m s1\u001b[38;5;241m.\u001b[39mupdate([\u001b[38;5;241m1\u001b[39m,\u001b[38;5;241m2\u001b[39m])\n\u001b[0;32m      2\u001b[0m s1\n",
      "\u001b[1;31mNameError\u001b[0m: name 's1' is not defined"
     ]
    }
   ],
   "source": [
    "s1.update([1,2])\n",
    "s1"
   ]
  },
  {
   "cell_type": "code",
   "execution_count": 2,
   "id": "65033492-8ec4-43c6-aa08-f0eaa908153e",
   "metadata": {},
   "outputs": [],
   "source": [
    "A={1,2,3,4,5}\n",
    "B={4,5,6,7,8}\n",
    "C={8,9,10}"
   ]
  },
  {
   "cell_type": "code",
   "execution_count": 3,
   "id": "e5659ccc-1f53-46f6-9523-27272529aab0",
   "metadata": {},
   "outputs": [
    {
     "data": {
      "text/plain": [
       "{1, 2, 3, 4, 5, 6, 7, 8}"
      ]
     },
     "execution_count": 3,
     "metadata": {},
     "output_type": "execute_result"
    }
   ],
   "source": [
    "A.union(B)   #union can also denoted by |"
   ]
  },
  {
   "cell_type": "code",
   "execution_count": 1,
   "id": "eaaf6a7f-aa2e-449d-bffc-6d333ce18a44",
   "metadata": {},
   "outputs": [],
   "source": [
    "A={1,2,3,4,5}\n",
    "B={4,5,6,7,8}\n",
    "C={8,9,10}"
   ]
  },
  {
   "cell_type": "code",
   "execution_count": 4,
   "id": "fb88d975-a8df-4f7e-a5cd-a376913ac735",
   "metadata": {},
   "outputs": [
    {
     "data": {
      "text/plain": [
       "{4, 5}"
      ]
     },
     "execution_count": 4,
     "metadata": {},
     "output_type": "execute_result"
    }
   ],
   "source": [
    "A.intersection(B) # & deonotes intersection"
   ]
  },
  {
   "cell_type": "code",
   "execution_count": 3,
   "id": "8ba5b23b-dfd0-4457-acd3-30a05dfcabae",
   "metadata": {},
   "outputs": [
    {
     "data": {
      "text/plain": [
       "{8}"
      ]
     },
     "execution_count": 3,
     "metadata": {},
     "output_type": "execute_result"
    }
   ],
   "source": [
    "B & C  # & deonotes intersection"
   ]
  },
  {
   "cell_type": "code",
   "execution_count": 4,
   "id": "d0426a98-c214-42ff-83cd-66a6ee29746a",
   "metadata": {},
   "outputs": [
    {
     "data": {
      "text/plain": [
       "{1, 2, 3}"
      ]
     },
     "execution_count": 4,
     "metadata": {},
     "output_type": "execute_result"
    }
   ],
   "source": [
    "A-B"
   ]
  },
  {
   "cell_type": "code",
   "execution_count": 5,
   "id": "453b6c07-510c-43fc-a324-0bdd67e8e949",
   "metadata": {},
   "outputs": [
    {
     "data": {
      "text/plain": [
       "{9, 10}"
      ]
     },
     "execution_count": 5,
     "metadata": {},
     "output_type": "execute_result"
    }
   ],
   "source": [
    "C.difference(B)"
   ]
  },
  {
   "cell_type": "code",
   "execution_count": 6,
   "id": "58107045-1854-429a-9385-df0b8007af06",
   "metadata": {},
   "outputs": [],
   "source": [
    "A={1,2,3,4,5}\n",
    "B={4,5,6,7,8}\n",
    "C={8,9,10}"
   ]
  },
  {
   "cell_type": "code",
   "execution_count": 7,
   "id": "c1c79885-fa8a-47d0-84e7-4cbdd7d57963",
   "metadata": {},
   "outputs": [
    {
     "name": "stdout",
     "output_type": "stream",
     "text": [
      "{1, 2, 3, 4, 5}\n",
      "{4, 5, 6, 7, 8}\n",
      "{8, 9, 10}\n"
     ]
    }
   ],
   "source": [
    "print(A)\n",
    "print(B)\n",
    "print(C)"
   ]
  },
  {
   "cell_type": "code",
   "execution_count": 5,
   "id": "cbc5dcd7-1c80-4fdc-b699-9b8d7633a3c8",
   "metadata": {},
   "outputs": [
    {
     "data": {
      "text/plain": [
       "{1, 2, 3, 6, 7, 8}"
      ]
     },
     "execution_count": 5,
     "metadata": {},
     "output_type": "execute_result"
    }
   ],
   "source": [
    "A.symmetric_difference(B) #symmetric difference is denoted by ^"
   ]
  },
  {
   "cell_type": "code",
   "execution_count": 10,
   "id": "97e78f64-99a3-4dbf-9932-a02bd04d5b93",
   "metadata": {},
   "outputs": [
    {
     "data": {
      "text/plain": [
       "{4, 5, 6, 7, 9, 10}"
      ]
     },
     "execution_count": 10,
     "metadata": {},
     "output_type": "execute_result"
    }
   ],
   "source": [
    "B.symmetric_difference(C)"
   ]
  },
  {
   "cell_type": "code",
   "execution_count": 9,
   "id": "fa8f93c8-d6b9-4370-8ee1-8bf8d76f9a6e",
   "metadata": {},
   "outputs": [
    {
     "data": {
      "text/plain": [
       "{1, 2, 3}"
      ]
     },
     "execution_count": 9,
     "metadata": {},
     "output_type": "execute_result"
    }
   ],
   "source": [
    "A.difference(B)"
   ]
  },
  {
   "cell_type": "code",
   "execution_count": 11,
   "id": "80fb5591-0e5b-4c9d-a87e-780ea5fa4aa9",
   "metadata": {},
   "outputs": [
    {
     "data": {
      "text/plain": [
       "{4, 5, 6, 7, 9, 10}"
      ]
     },
     "execution_count": 11,
     "metadata": {},
     "output_type": "execute_result"
    }
   ],
   "source": [
    "B ^ C  # ^ is symmetric difference"
   ]
  },
  {
   "cell_type": "code",
   "execution_count": 12,
   "id": "d380856e-673a-49f1-9e00-60c62362f35d",
   "metadata": {},
   "outputs": [
    {
     "name": "stdout",
     "output_type": "stream",
     "text": [
      "{1, 2, 3, 4, 5}\n",
      "{4, 5, 6, 7, 8}\n",
      "{8, 9, 10}\n"
     ]
    }
   ],
   "source": [
    "print(A)\n",
    "print(B)\n",
    "print(C)"
   ]
  },
  {
   "cell_type": "code",
   "execution_count": 13,
   "id": "b3b19370-54bf-4c4f-aa57-fe47c6994cc3",
   "metadata": {},
   "outputs": [
    {
     "data": {
      "text/plain": [
       "5"
      ]
     },
     "execution_count": 13,
     "metadata": {},
     "output_type": "execute_result"
    }
   ],
   "source": [
    "len(A)"
   ]
  },
  {
   "cell_type": "code",
   "execution_count": 7,
   "id": "148dd0e5-d64a-4129-9167-fa45d113deaa",
   "metadata": {},
   "outputs": [],
   "source": [
    "A.symmetric_difference_update(B)"
   ]
  },
  {
   "cell_type": "code",
   "execution_count": 19,
   "id": "643a9a91-4df2-49e8-8d9b-b8ad93f8bcee",
   "metadata": {},
   "outputs": [
    {
     "data": {
      "text/plain": [
       "{1, 2, 3, 6, 7, 8}"
      ]
     },
     "execution_count": 19,
     "metadata": {},
     "output_type": "execute_result"
    }
   ],
   "source": [
    "A"
   ]
  },
  {
   "cell_type": "code",
   "execution_count": 23,
   "id": "7d47c7a9-9288-4c59-9ab0-bf36b43199ab",
   "metadata": {},
   "outputs": [],
   "source": [
    "A1={1,2,3,4,5,6,7,8,9}\n",
    "B1={3,4,5,6,7,8}\n",
    "C1={10,20,30,40}"
   ]
  },
  {
   "cell_type": "code",
   "execution_count": 24,
   "id": "24448823-001d-44fd-8027-edab5849c4d7",
   "metadata": {},
   "outputs": [
    {
     "data": {
      "text/plain": [
       "True"
      ]
     },
     "execution_count": 24,
     "metadata": {},
     "output_type": "execute_result"
    }
   ],
   "source": [
    "A1.issuperset(B1)"
   ]
  },
  {
   "cell_type": "code",
   "execution_count": 25,
   "id": "bc18d87e-3a97-4492-8bd5-a887fe253a7c",
   "metadata": {},
   "outputs": [
    {
     "data": {
      "text/plain": [
       "True"
      ]
     },
     "execution_count": 25,
     "metadata": {},
     "output_type": "execute_result"
    }
   ],
   "source": [
    "B1.issubset(A1)"
   ]
  },
  {
   "cell_type": "code",
   "execution_count": 27,
   "id": "1c203797-36e7-4539-8430-b705f864d4f2",
   "metadata": {},
   "outputs": [
    {
     "data": {
      "text/plain": [
       "True"
      ]
     },
     "execution_count": 27,
     "metadata": {},
     "output_type": "execute_result"
    }
   ],
   "source": [
    "C1.isdisjoint(B1)"
   ]
  },
  {
   "cell_type": "code",
   "execution_count": 8,
   "id": "1f055b49-058d-4bfa-a4ae-2e29c78c8d99",
   "metadata": {},
   "outputs": [
    {
     "data": {
      "text/plain": [
       "True"
      ]
     },
     "execution_count": 8,
     "metadata": {},
     "output_type": "execute_result"
    }
   ],
   "source": [
    "S6= {3,9,2,'trdhs', 6+2j, 3,True, 7.5, False}\n",
    "any(S6)"
   ]
  },
  {
   "cell_type": "code",
   "execution_count": 9,
   "id": "bf2033a1-43e7-4d6f-ab6d-d14cf505196e",
   "metadata": {},
   "outputs": [
    {
     "name": "stdout",
     "output_type": "stream",
     "text": [
      "False\n"
     ]
    }
   ],
   "source": [
    "S7= {0, False, 0+0j, 0.0}\n",
    "print(all(S7))"
   ]
  },
  {
   "cell_type": "markdown",
   "id": "cba0fc0b-d576-446e-afc7-502659be8a35",
   "metadata": {},
   "source": [
    " # DICTIONARY"
   ]
  },
  {
   "cell_type": "code",
   "execution_count": 10,
   "id": "7d63e03f-5f6c-4fe4-9a37-fa46fe1f07e0",
   "metadata": {},
   "outputs": [
    {
     "name": "stdout",
     "output_type": "stream",
     "text": [
      "5\n",
      "{1: 'one', 2: 'two', 3: 'three', 4: 'Four', 5: 'Five'}\n"
     ]
    }
   ],
   "source": [
    "D1={\n",
    "    1:'one',\n",
    "    2:'two',\n",
    "    3:'three',\n",
    "    4:'Four',\n",
    "    5:'Five'\n",
    "}\n",
    "print(len(D1))\n",
    "print(D1)"
   ]
  },
  {
   "cell_type": "code",
   "execution_count": 11,
   "id": "ac746a96-0d68-4e99-af0c-b753881f85fa",
   "metadata": {},
   "outputs": [
    {
     "name": "stdout",
     "output_type": "stream",
     "text": [
      "(0, 1)\n",
      "(1, 2)\n",
      "(2, 3)\n",
      "(3, 4)\n",
      "(4, 5)\n"
     ]
    }
   ],
   "source": [
    "for i in enumerate(D1):\n",
    "    print(i)                "
   ]
  },
  {
   "cell_type": "code",
   "execution_count": 12,
   "id": "be54ac7e-257a-4364-a90c-d0ec2271946d",
   "metadata": {},
   "outputs": [
    {
     "name": "stdout",
     "output_type": "stream",
     "text": [
      "Dog's color: brown\n",
      "Cat's sound: meow\n"
     ]
    }
   ],
   "source": [
    "# Nested dictionary of animals\n",
    "animals = {\n",
    "    \"dog\": {\n",
    "        \"color\": \"brown\",\n",
    "        \"sound\": \"bark\"\n",
    "    },\n",
    "    \"cat\": {\n",
    "        \"color\": \"white\",\n",
    "        \"sound\": \"meow\"\n",
    "    }\n",
    "}\n",
    "\n",
    "# Accessing values\n",
    "print(\"Dog's color:\", animals[\"dog\"][\"color\"])\n",
    "print(\"Cat's sound:\", animals[\"cat\"][\"sound\"])\n"
   ]
  },
  {
   "cell_type": "code",
   "execution_count": 13,
   "id": "bb8808c3-6b10-4069-aa3f-95e3cd5a00a7",
   "metadata": {},
   "outputs": [],
   "source": [
    "person = {\n",
    "    \"name\": \"Alice\",\n",
    "    \"age\": 25,\n",
    "    \"city\": \"Paris\"\n",
    "}\n"
   ]
  },
  {
   "cell_type": "code",
   "execution_count": 14,
   "id": "613601f2-2f52-4998-ada8-d5d303374a5f",
   "metadata": {},
   "outputs": [
    {
     "name": "stdout",
     "output_type": "stream",
     "text": [
      "dict_keys(['name', 'age', 'city'])\n"
     ]
    }
   ],
   "source": [
    "print(person.keys())  \n"
   ]
  },
  {
   "cell_type": "code",
   "execution_count": 15,
   "id": "b38b11ae-cdc4-435b-a056-db55fcacd049",
   "metadata": {},
   "outputs": [
    {
     "name": "stdout",
     "output_type": "stream",
     "text": [
      "dict_values(['Alice', 25, 'Paris'])\n"
     ]
    }
   ],
   "source": [
    "print(person.values()) "
   ]
  },
  {
   "cell_type": "code",
   "execution_count": 16,
   "id": "43a8b3f5-0044-491f-ad43-29d1bac77826",
   "metadata": {},
   "outputs": [
    {
     "name": "stdout",
     "output_type": "stream",
     "text": [
      "dict_items([('name', 'Alice'), ('age', 25), ('city', 'Paris')])\n"
     ]
    }
   ],
   "source": [
    "print(person.items()) "
   ]
  },
  {
   "cell_type": "code",
   "execution_count": 18,
   "id": "055e6e53-ab04-498d-91dc-8ce80674f273",
   "metadata": {},
   "outputs": [
    {
     "name": "stdout",
     "output_type": "stream",
     "text": [
      "25\n",
      "None\n"
     ]
    }
   ],
   "source": [
    "print(person.get(\"age\"))      \n",
    "print(person.get(\"gender\"))"
   ]
  },
  {
   "cell_type": "code",
   "execution_count": 19,
   "id": "192f5874-382f-4484-87a9-4aafd1967c29",
   "metadata": {},
   "outputs": [
    {
     "name": "stdout",
     "output_type": "stream",
     "text": [
      "{'name': 'Alice', 'age': 26, 'city': 'Paris', 'country': 'France'}\n"
     ]
    }
   ],
   "source": [
    "person.update({\"age\": 26, \"country\": \"France\"})\n",
    "print(person)"
   ]
  },
  {
   "cell_type": "code",
   "execution_count": null,
   "id": "392ad35b-827a-447e-ad7e-7f596681f716",
   "metadata": {},
   "outputs": [],
   "source": [
    "person.pop(\"city\")\n",
    "print(person)  "
   ]
  },
  {
   "cell_type": "code",
   "execution_count": 20,
   "id": "7e5a096c-0006-46bd-8557-4530cc516c8c",
   "metadata": {},
   "outputs": [
    {
     "name": "stdout",
     "output_type": "stream",
     "text": [
      "{'name': 'Alice', 'age': 26, 'city': 'Paris'}\n"
     ]
    }
   ],
   "source": [
    "person.popitem()\n",
    "print(person)  "
   ]
  },
  {
   "cell_type": "code",
   "execution_count": 21,
   "id": "cc67128f-d148-4bc0-9ca7-4a2bcb008890",
   "metadata": {},
   "outputs": [
    {
     "name": "stdout",
     "output_type": "stream",
     "text": [
      "{}\n"
     ]
    }
   ],
   "source": [
    "person.clear()\n",
    "print(person)"
   ]
  },
  {
   "cell_type": "code",
   "execution_count": 22,
   "id": "4d863d9f-1dc9-4aa5-90bd-5a25f7e9eebe",
   "metadata": {},
   "outputs": [
    {
     "name": "stdout",
     "output_type": "stream",
     "text": [
      "{'a': 1, 'b': 2}\n"
     ]
    }
   ],
   "source": [
    "original = {\"a\": 1, \"b\": 2}\n",
    "copy_dict = original.copy()\n",
    "print(copy_dict) "
   ]
  },
  {
   "cell_type": "code",
   "execution_count": 23,
   "id": "5c31acdf-259a-469f-8fde-686d8c118862",
   "metadata": {},
   "outputs": [
    {
     "name": "stdout",
     "output_type": "stream",
     "text": [
      "{'x': 0, 'y': 0, 'z': 0}\n"
     ]
    }
   ],
   "source": [
    "keys = [\"x\", \"y\", \"z\"]\n",
    "new_dict = dict.fromkeys(keys, 0)\n",
    "print(new_dict) "
   ]
  },
  {
   "cell_type": "code",
   "execution_count": null,
   "id": "650962b9-44bc-4f55-a6ca-2c0be95c8c9c",
   "metadata": {},
   "outputs": [],
   "source": []
  }
 ],
 "metadata": {
  "kernelspec": {
   "display_name": "Python [conda env:base] *",
   "language": "python",
   "name": "conda-base-py"
  },
  "language_info": {
   "codemirror_mode": {
    "name": "ipython",
    "version": 3
   },
   "file_extension": ".py",
   "mimetype": "text/x-python",
   "name": "python",
   "nbconvert_exporter": "python",
   "pygments_lexer": "ipython3",
   "version": "3.12.7"
  }
 },
 "nbformat": 4,
 "nbformat_minor": 5
}
