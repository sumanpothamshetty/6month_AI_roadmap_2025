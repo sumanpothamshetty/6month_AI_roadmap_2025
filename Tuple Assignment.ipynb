{
 "cells": [
  {
   "cell_type": "markdown",
   "id": "c3e94959-9b32-45c7-b6aa-a653eb73fcec",
   "metadata": {},
   "source": [
    "# Tuple Creation"
   ]
  },
  {
   "cell_type": "code",
   "execution_count": 1,
   "id": "21c20e36-a3d5-4d40-b6c4-a6451084f97b",
   "metadata": {},
   "outputs": [],
   "source": [
    "Tuple1=()\n"
   ]
  },
  {
   "cell_type": "code",
   "execution_count": 2,
   "id": "a8172b4e-b641-4604-9764-ccadfb16770b",
   "metadata": {},
   "outputs": [],
   "source": [
    "Tuple2=(22,44,66)"
   ]
  },
  {
   "cell_type": "code",
   "execution_count": 3,
   "id": "d1bc9536-3100-4002-89b2-dd5b4ce4c87d",
   "metadata": {},
   "outputs": [],
   "source": [
    "Tuple3=(8.23,6.28,9.57)"
   ]
  },
  {
   "cell_type": "code",
   "execution_count": 5,
   "id": "29118c34-b568-4e51-bdde-475bddf99674",
   "metadata": {},
   "outputs": [],
   "source": [
    "Tuple4=('eight','nine','ten')"
   ]
  },
  {
   "cell_type": "code",
   "execution_count": 8,
   "id": "eea9b845-f159-4da3-b7d3-d223e82e11d6",
   "metadata": {},
   "outputs": [],
   "source": [
    "Tuple5=(34,4.5,'suman',(29,56),(345,45))"
   ]
  },
  {
   "cell_type": "code",
   "execution_count": 10,
   "id": "3343eed5-e833-45ca-b2ae-02defd0d8dd3",
   "metadata": {},
   "outputs": [],
   "source": [
    "Tuple6=(Tuple5,'suman')"
   ]
  },
  {
   "cell_type": "code",
   "execution_count": 11,
   "id": "abc96250-7930-4a99-8acb-67bdc747b55d",
   "metadata": {},
   "outputs": [
    {
     "data": {
      "text/plain": [
       "((34, 4.5, 'suman', (29, 56), (345, 45)), 'suman')"
      ]
     },
     "execution_count": 11,
     "metadata": {},
     "output_type": "execute_result"
    }
   ],
   "source": [
    "Tuple6"
   ]
  },
  {
   "cell_type": "code",
   "execution_count": 12,
   "id": "c1ec3f4d-44a6-4d01-aa1b-11d2ff58a2d3",
   "metadata": {},
   "outputs": [
    {
     "data": {
      "text/plain": [
       "2"
      ]
     },
     "execution_count": 12,
     "metadata": {},
     "output_type": "execute_result"
    }
   ],
   "source": [
    "len(Tuple6)"
   ]
  },
  {
   "cell_type": "markdown",
   "id": "e57a579a-4f11-4995-a398-8e8794195ebb",
   "metadata": {},
   "source": [
    "# Tuple Indexing"
   ]
  },
  {
   "cell_type": "code",
   "execution_count": 13,
   "id": "74d6b93d-b382-4968-af90-9cbb6e6802b3",
   "metadata": {},
   "outputs": [
    {
     "data": {
      "text/plain": [
       "66"
      ]
     },
     "execution_count": 13,
     "metadata": {},
     "output_type": "execute_result"
    }
   ],
   "source": [
    "Tuple2[2]"
   ]
  },
  {
   "cell_type": "code",
   "execution_count": 14,
   "id": "159848ff-edfa-4d9e-86dc-1719438fd48e",
   "metadata": {},
   "outputs": [
    {
     "data": {
      "text/plain": [
       "8.23"
      ]
     },
     "execution_count": 14,
     "metadata": {},
     "output_type": "execute_result"
    }
   ],
   "source": [
    "Tuple3[0]"
   ]
  },
  {
   "cell_type": "code",
   "execution_count": 15,
   "id": "09650d80-8570-4ee9-bf42-93e543668554",
   "metadata": {},
   "outputs": [
    {
     "data": {
      "text/plain": [
       "'n'"
      ]
     },
     "execution_count": 15,
     "metadata": {},
     "output_type": "execute_result"
    }
   ],
   "source": [
    "Tuple4[1][0]"
   ]
  },
  {
   "cell_type": "code",
   "execution_count": 16,
   "id": "b3a2c50b-1092-41c1-b9a0-198ba73ec60b",
   "metadata": {},
   "outputs": [
    {
     "data": {
      "text/plain": [
       "(29, 56)"
      ]
     },
     "execution_count": 16,
     "metadata": {},
     "output_type": "execute_result"
    }
   ],
   "source": [
    "Tuple5[-2]"
   ]
  },
  {
   "cell_type": "markdown",
   "id": "c5ac169d-a4b2-4614-9242-68af563a6f4f",
   "metadata": {},
   "source": [
    "# Tuple Slcing"
   ]
  },
  {
   "cell_type": "code",
   "execution_count": 18,
   "id": "f69d9095-ed1d-4538-a4b7-ce3edfe560ce",
   "metadata": {},
   "outputs": [],
   "source": [
    "TheTuple=('one','hello',6,complex(2,7),[1,2,3],(1,2))"
   ]
  },
  {
   "cell_type": "code",
   "execution_count": 20,
   "id": "677f498e-b801-49fd-a176-3f73a0cbb181",
   "metadata": {},
   "outputs": [
    {
     "data": {
      "text/plain": [
       "('hello', 6, (2+7j), [1, 2, 3])"
      ]
     },
     "execution_count": 20,
     "metadata": {},
     "output_type": "execute_result"
    }
   ],
   "source": [
    "TheTuple[1:5]"
   ]
  },
  {
   "cell_type": "code",
   "execution_count": 21,
   "id": "a7cc0f80-e60d-4da5-902d-99ff7acc46f7",
   "metadata": {},
   "outputs": [
    {
     "data": {
      "text/plain": [
       "(6, (2+7j))"
      ]
     },
     "execution_count": 21,
     "metadata": {},
     "output_type": "execute_result"
    }
   ],
   "source": [
    "TheTuple[2:4]"
   ]
  },
  {
   "cell_type": "code",
   "execution_count": 22,
   "id": "6d91423e-fdec-4812-8950-18c7d62ceb1c",
   "metadata": {},
   "outputs": [
    {
     "data": {
      "text/plain": [
       "('one', 'hello', 6)"
      ]
     },
     "execution_count": 22,
     "metadata": {},
     "output_type": "execute_result"
    }
   ],
   "source": [
    "TheTuple[:3]"
   ]
  },
  {
   "cell_type": "code",
   "execution_count": 23,
   "id": "6ebd5dfe-9138-4e91-8580-acefb688d00d",
   "metadata": {},
   "outputs": [
    {
     "data": {
      "text/plain": [
       "('one', 'hello')"
      ]
     },
     "execution_count": 23,
     "metadata": {},
     "output_type": "execute_result"
    }
   ],
   "source": [
    "TheTuple[:-4]"
   ]
  },
  {
   "cell_type": "code",
   "execution_count": 24,
   "id": "cf7d84d4-02d2-473b-ac9b-cb06c963b98f",
   "metadata": {},
   "outputs": [
    {
     "data": {
      "text/plain": [
       "('one', 'hello', 6, (2+7j), [1, 2, 3])"
      ]
     },
     "execution_count": 24,
     "metadata": {},
     "output_type": "execute_result"
    }
   ],
   "source": [
    "TheTuple[:-1]"
   ]
  },
  {
   "cell_type": "code",
   "execution_count": 25,
   "id": "987cd21d-3449-41d5-9ffe-4b208e9ad46a",
   "metadata": {},
   "outputs": [
    {
     "data": {
      "text/plain": [
       "('one', 'hello', 6, (2+7j), [1, 2, 3], (1, 2))"
      ]
     },
     "execution_count": 25,
     "metadata": {},
     "output_type": "execute_result"
    }
   ],
   "source": [
    "TheTuple"
   ]
  },
  {
   "cell_type": "markdown",
   "id": "74b544a5-7d42-4190-8669-f85438c111f9",
   "metadata": {},
   "source": [
    "# Removing and Changing Items"
   ]
  },
  {
   "cell_type": "code",
   "execution_count": 31,
   "id": "3d78e33f-089b-45ee-9069-ae74aabff5b9",
   "metadata": {},
   "outputs": [
    {
     "ename": "NameError",
     "evalue": "name 'TheTuple' is not defined",
     "output_type": "error",
     "traceback": [
      "\u001b[1;31m---------------------------------------------------------------------------\u001b[0m",
      "\u001b[1;31mNameError\u001b[0m                                 Traceback (most recent call last)",
      "Cell \u001b[1;32mIn[31], line 1\u001b[0m\n\u001b[1;32m----> 1\u001b[0m TheTuple\n",
      "\u001b[1;31mNameError\u001b[0m: name 'TheTuple' is not defined"
     ]
    }
   ],
   "source": [
    "TheTuple"
   ]
  },
  {
   "cell_type": "code",
   "execution_count": 27,
   "id": "b1802b03-ad4d-4502-b78e-93a2275dbb7b",
   "metadata": {},
   "outputs": [
    {
     "ename": "TypeError",
     "evalue": "'tuple' object doesn't support item deletion",
     "output_type": "error",
     "traceback": [
      "\u001b[1;31m---------------------------------------------------------------------------\u001b[0m",
      "\u001b[1;31mTypeError\u001b[0m                                 Traceback (most recent call last)",
      "Cell \u001b[1;32mIn[27], line 1\u001b[0m\n\u001b[1;32m----> 1\u001b[0m \u001b[38;5;28;01mdel\u001b[39;00m TheTuple[\u001b[38;5;241m1\u001b[39m]\n",
      "\u001b[1;31mTypeError\u001b[0m: 'tuple' object doesn't support item deletion"
     ]
    }
   ],
   "source": [
    "del TheTuple[1]  #deleting is not supported in tuple"
   ]
  },
  {
   "cell_type": "code",
   "execution_count": 28,
   "id": "769ac104-4e37-450f-afec-166721214428",
   "metadata": {},
   "outputs": [
    {
     "ename": "TypeError",
     "evalue": "'tuple' object does not support item assignment",
     "output_type": "error",
     "traceback": [
      "\u001b[1;31m---------------------------------------------------------------------------\u001b[0m",
      "\u001b[1;31mTypeError\u001b[0m                                 Traceback (most recent call last)",
      "Cell \u001b[1;32mIn[28], line 1\u001b[0m\n\u001b[1;32m----> 1\u001b[0m TheTuple[\u001b[38;5;241m2\u001b[39m]\u001b[38;5;241m=\u001b[39m\u001b[38;5;241m88\u001b[39m\n",
      "\u001b[1;31mTypeError\u001b[0m: 'tuple' object does not support item assignment"
     ]
    }
   ],
   "source": [
    "TheTuple[2]=88 #we cannot chage the elements in tuple after compiling i.e., tuple is not mutable"
   ]
  },
  {
   "cell_type": "markdown",
   "id": "94df59ef-d1ff-4928-a629-42c7850955d5",
   "metadata": {},
   "source": [
    "# loop through a tuple"
   ]
  },
  {
   "cell_type": "code",
   "execution_count": 32,
   "id": "eb24d756-3dac-4df1-984b-af0a03c69453",
   "metadata": {},
   "outputs": [],
   "source": [
    "ThisTuple=(1,2,3,4,5,6,7,8,9)"
   ]
  },
  {
   "cell_type": "code",
   "execution_count": 33,
   "id": "92c83d86-3a5e-4413-ab7f-9fd9e88a277d",
   "metadata": {},
   "outputs": [
    {
     "data": {
      "text/plain": [
       "(1, 2, 3, 4, 5, 6, 7, 8, 9)"
      ]
     },
     "execution_count": 33,
     "metadata": {},
     "output_type": "execute_result"
    }
   ],
   "source": [
    "ThisTuple"
   ]
  },
  {
   "cell_type": "code",
   "execution_count": 34,
   "id": "14b62b52-4f40-493f-9a23-c80125dd4cd0",
   "metadata": {},
   "outputs": [
    {
     "name": "stdout",
     "output_type": "stream",
     "text": [
      "1\n",
      "2\n",
      "3\n",
      "4\n",
      "5\n",
      "6\n",
      "7\n",
      "8\n",
      "9\n"
     ]
    }
   ],
   "source": [
    "for i in ThisTuple:\n",
    "    print(i)"
   ]
  },
  {
   "cell_type": "code",
   "execution_count": 35,
   "id": "52743be3-7d7b-4f35-83cc-c660f88c5745",
   "metadata": {},
   "outputs": [
    {
     "name": "stdout",
     "output_type": "stream",
     "text": [
      "(0, 1)\n",
      "(1, 2)\n",
      "(2, 3)\n",
      "(3, 4)\n",
      "(4, 5)\n",
      "(5, 6)\n",
      "(6, 7)\n",
      "(7, 8)\n",
      "(8, 9)\n"
     ]
    }
   ],
   "source": [
    "for i in enumerate(ThisTuple):\n",
    "    print(i)"
   ]
  },
  {
   "cell_type": "markdown",
   "id": "3317feeb-9594-494c-a009-c062bd476b95",
   "metadata": {},
   "source": [
    "# Tuple Membership"
   ]
  },
  {
   "cell_type": "code",
   "execution_count": 36,
   "id": "4c2090a9-1a4d-4f5a-87a0-a5954991e236",
   "metadata": {},
   "outputs": [
    {
     "data": {
      "text/plain": [
       "(1, 2, 3, 4, 5, 6, 7, 8, 9)"
      ]
     },
     "execution_count": 36,
     "metadata": {},
     "output_type": "execute_result"
    }
   ],
   "source": [
    "ThisTuple"
   ]
  },
  {
   "cell_type": "code",
   "execution_count": 37,
   "id": "332031f8-6409-4a32-bc13-8f9ca5c366ef",
   "metadata": {},
   "outputs": [
    {
     "data": {
      "text/plain": [
       "False"
      ]
     },
     "execution_count": 37,
     "metadata": {},
     "output_type": "execute_result"
    }
   ],
   "source": [
    "10 in ThisTuple"
   ]
  },
  {
   "cell_type": "code",
   "execution_count": 38,
   "id": "ec181a64-f5ef-438b-9c84-1f0ccb99a95a",
   "metadata": {},
   "outputs": [
    {
     "data": {
      "text/plain": [
       "True"
      ]
     },
     "execution_count": 38,
     "metadata": {},
     "output_type": "execute_result"
    }
   ],
   "source": [
    "8 in ThisTuple"
   ]
  },
  {
   "cell_type": "code",
   "execution_count": 42,
   "id": "5ea0c0b3-3c03-4f78-99cf-2faeac913be3",
   "metadata": {},
   "outputs": [
    {
     "name": "stdout",
     "output_type": "stream",
     "text": [
      "5 is present in ThisTuple\n"
     ]
    }
   ],
   "source": [
    "if 5 in ThisTuple:\n",
    "    print('5 is present in ThisTuple')\n",
    "else:\n",
    "    print('5 is not present in ThisTuple')"
   ]
  },
  {
   "cell_type": "markdown",
   "id": "cdd0beeb-66fc-42fa-9ce6-3f35b7262f86",
   "metadata": {},
   "source": [
    "# Index Position"
   ]
  },
  {
   "cell_type": "code",
   "execution_count": 43,
   "id": "65745a8e-c544-4bcd-8266-135807a65e1f",
   "metadata": {},
   "outputs": [
    {
     "data": {
      "text/plain": [
       "(1, 2, 3, 4, 5, 6, 7, 8, 9)"
      ]
     },
     "execution_count": 43,
     "metadata": {},
     "output_type": "execute_result"
    }
   ],
   "source": [
    "ThisTuple"
   ]
  },
  {
   "cell_type": "code",
   "execution_count": 45,
   "id": "793ca0bb-bafb-4528-87f6-98db22d8f96a",
   "metadata": {},
   "outputs": [
    {
     "data": {
      "text/plain": [
       "5"
      ]
     },
     "execution_count": 45,
     "metadata": {},
     "output_type": "execute_result"
    }
   ],
   "source": [
    "ThisTuple.index(6)"
   ]
  },
  {
   "cell_type": "code",
   "execution_count": 46,
   "id": "d38ef4df-1cda-4e3e-8604-c26aafbd6dfa",
   "metadata": {},
   "outputs": [
    {
     "data": {
      "text/plain": [
       "8"
      ]
     },
     "execution_count": 46,
     "metadata": {},
     "output_type": "execute_result"
    }
   ],
   "source": [
    "ThisTuple.index(9)"
   ]
  },
  {
   "cell_type": "code",
   "execution_count": 50,
   "id": "3d37cd00-e9ad-43d1-a072-8ddad31d66bc",
   "metadata": {},
   "outputs": [
    {
     "name": "stdout",
     "output_type": "stream",
     "text": [
      "5\n"
     ]
    }
   ],
   "source": [
    "print(ThisTuple[4])"
   ]
  },
  {
   "cell_type": "code",
   "execution_count": 51,
   "id": "4eb75a2b-dc30-41d6-ae75-dcd5e8a7b0d4",
   "metadata": {},
   "outputs": [
    {
     "name": "stdout",
     "output_type": "stream",
     "text": [
      "9\n"
     ]
    }
   ],
   "source": [
    "print(ThisTuple[-1]) "
   ]
  },
  {
   "cell_type": "markdown",
   "id": "e616460b-0fc8-4394-974e-9b16190ed43d",
   "metadata": {},
   "source": [
    "# Sorting"
   ]
  },
  {
   "cell_type": "code",
   "execution_count": 54,
   "id": "14d00cd0-8ac3-4633-a48c-0f35a5f3046f",
   "metadata": {},
   "outputs": [],
   "source": [
    "ThisTuple2=(5,6,3,7,1,2,9,4)"
   ]
  },
  {
   "cell_type": "code",
   "execution_count": 55,
   "id": "89397d5f-be58-4e77-8d37-3c4316710353",
   "metadata": {},
   "outputs": [
    {
     "data": {
      "text/plain": [
       "[1, 2, 3, 4, 5, 6, 7, 9]"
      ]
     },
     "execution_count": 55,
     "metadata": {},
     "output_type": "execute_result"
    }
   ],
   "source": [
    "sorted(ThisTuple2)"
   ]
  },
  {
   "cell_type": "code",
   "execution_count": 56,
   "id": "c7c08082-c44f-4c8a-94a1-b9e6300d5de4",
   "metadata": {},
   "outputs": [
    {
     "data": {
      "text/plain": [
       "[9, 7, 6, 5, 4, 3, 2, 1]"
      ]
     },
     "execution_count": 56,
     "metadata": {},
     "output_type": "execute_result"
    }
   ],
   "source": [
    "sorted(ThisTuple2 , reverse=True)"
   ]
  }
 ],
 "metadata": {
  "kernelspec": {
   "display_name": "Python [conda env:base] *",
   "language": "python",
   "name": "conda-base-py"
  },
  "language_info": {
   "codemirror_mode": {
    "name": "ipython",
    "version": 3
   },
   "file_extension": ".py",
   "mimetype": "text/x-python",
   "name": "python",
   "nbconvert_exporter": "python",
   "pygments_lexer": "ipython3",
   "version": "3.12.7"
  }
 },
 "nbformat": 4,
 "nbformat_minor": 5
}
